{
 "cells": [
  {
   "cell_type": "code",
   "execution_count": 1,
   "metadata": {
    "colab": {
     "base_uri": "https://localhost:8080/",
     "height": 404
    },
    "id": "n2D-vx60gXD-",
    "outputId": "e1c0211a-762b-4488-a88f-89bc7b68acb0"
   },
   "outputs": [],
   "source": [
    "import numpy as np\n",
    "import pandas as pd\n",
    "df = pd.read_csv(\"nlp_class.csv\")"
   ]
  },
  {
   "cell_type": "code",
   "execution_count": 2,
   "metadata": {
    "colab": {
     "base_uri": "https://localhost:8080/",
     "height": 162
    },
    "id": "-uFJwyOb3JU8",
    "outputId": "3b47a96b-8971-4add-91eb-2c8a3422170b"
   },
   "outputs": [
    {
     "data": {
      "text/html": [
       "<div>\n",
       "<style scoped>\n",
       "    .dataframe tbody tr th:only-of-type {\n",
       "        vertical-align: middle;\n",
       "    }\n",
       "\n",
       "    .dataframe tbody tr th {\n",
       "        vertical-align: top;\n",
       "    }\n",
       "\n",
       "    .dataframe thead th {\n",
       "        text-align: right;\n",
       "    }\n",
       "</style>\n",
       "<table border=\"1\" class=\"dataframe\">\n",
       "  <thead>\n",
       "    <tr style=\"text-align: right;\">\n",
       "      <th></th>\n",
       "      <th>Unnamed: 0</th>\n",
       "      <th>document</th>\n",
       "      <th>category</th>\n",
       "    </tr>\n",
       "  </thead>\n",
       "  <tbody>\n",
       "    <tr>\n",
       "      <th>0</th>\n",
       "      <td>0</td>\n",
       "      <td>Irish markets reach all-time high</td>\n",
       "      <td>business</td>\n",
       "    </tr>\n",
       "    <tr>\n",
       "      <th>1</th>\n",
       "      <td>2</td>\n",
       "      <td>Irish shares have risen to a record high, with...</td>\n",
       "      <td>business</td>\n",
       "    </tr>\n",
       "    <tr>\n",
       "      <th>2</th>\n",
       "      <td>4</td>\n",
       "      <td>The ISEQ index of leading shares closed up 23 ...</td>\n",
       "      <td>business</td>\n",
       "    </tr>\n",
       "    <tr>\n",
       "      <th>3</th>\n",
       "      <td>6</td>\n",
       "      <td>Several of Ireland's biggest companies saw the...</td>\n",
       "      <td>business</td>\n",
       "    </tr>\n",
       "    <tr>\n",
       "      <th>4</th>\n",
       "      <td>8</td>\n",
       "      <td>Telecoms firm Eircom, which recently revealed ...</td>\n",
       "      <td>business</td>\n",
       "    </tr>\n",
       "    <tr>\n",
       "      <th>...</th>\n",
       "      <td>...</td>\n",
       "      <td>...</td>\n",
       "      <td>...</td>\n",
       "    </tr>\n",
       "    <tr>\n",
       "      <th>15129</th>\n",
       "      <td>23511</td>\n",
       "      <td>France has become the last big European countr...</td>\n",
       "      <td>tech</td>\n",
       "    </tr>\n",
       "    <tr>\n",
       "      <th>15130</th>\n",
       "      <td>23513</td>\n",
       "      <td>Initially, more than a third of the population...</td>\n",
       "      <td>tech</td>\n",
       "    </tr>\n",
       "    <tr>\n",
       "      <th>15131</th>\n",
       "      <td>23515</td>\n",
       "      <td>The French DTT platform is known as TNT, which...</td>\n",
       "      <td>tech</td>\n",
       "    </tr>\n",
       "    <tr>\n",
       "      <th>15132</th>\n",
       "      <td>23517</td>\n",
       "      <td>\"But everyone's impressed with DTT in the UK, ...</td>\n",
       "      <td>tech</td>\n",
       "    </tr>\n",
       "    <tr>\n",
       "      <th>15133</th>\n",
       "      <td>23519</td>\n",
       "      <td>Up to 15 pay-TV channels will launch on DTT be...</td>\n",
       "      <td>tech</td>\n",
       "    </tr>\n",
       "  </tbody>\n",
       "</table>\n",
       "<p>15134 rows × 3 columns</p>\n",
       "</div>"
      ],
      "text/plain": [
       "       Unnamed: 0                                           document  category\n",
       "0               0                  Irish markets reach all-time high  business\n",
       "1               2  Irish shares have risen to a record high, with...  business\n",
       "2               4  The ISEQ index of leading shares closed up 23 ...  business\n",
       "3               6  Several of Ireland's biggest companies saw the...  business\n",
       "4               8  Telecoms firm Eircom, which recently revealed ...  business\n",
       "...           ...                                                ...       ...\n",
       "15129       23511  France has become the last big European countr...      tech\n",
       "15130       23513  Initially, more than a third of the population...      tech\n",
       "15131       23515  The French DTT platform is known as TNT, which...      tech\n",
       "15132       23517  \"But everyone's impressed with DTT in the UK, ...      tech\n",
       "15133       23519  Up to 15 pay-TV channels will launch on DTT be...      tech\n",
       "\n",
       "[15134 rows x 3 columns]"
      ]
     },
     "execution_count": 2,
     "metadata": {},
     "output_type": "execute_result"
    }
   ],
   "source": [
    "df"
   ]
  },
  {
   "cell_type": "code",
   "execution_count": 3,
   "metadata": {
    "colab": {
     "base_uri": "https://localhost:8080/",
     "height": 229
    },
    "id": "QOQ0AF0W5xSi",
    "outputId": "de83c0ff-4ec3-42de-db16-be9cd4cd9d88"
   },
   "outputs": [],
   "source": [
    "df_business = df.loc[df['category']=='business']\n",
    "df_business_text = list(df_business['document'])\n",
    "df_business_text=' '.join(df_business_text)\n",
    "\n",
    "df_tech = df.loc[df['category']=='tech']\n",
    "df_tech_text = list(df_tech['document'])\n",
    "df_tech_text=' '.join(df_tech_text)\n",
    "\n",
    "df_sport = df.loc[df['category']=='sport']\n",
    "df_sport_text = list(df_sport['document'])\n",
    "df_sport_text=' '.join(df_sport_text)\n",
    "\n",
    "df_entertainment = df.loc[df['category']=='entertainment']\n",
    "df_entertainment_text = list(df_entertainment['document'])\n",
    "df_entertainment_text=' '.join(df_entertainment_text)\n",
    "\n"
   ]
  },
  {
   "cell_type": "code",
   "execution_count": 4,
   "metadata": {
    "id": "3dj2hEzu6ZHK"
   },
   "outputs": [
    {
     "ename": "ModuleNotFoundError",
     "evalue": "No module named 'wordcloud'",
     "output_type": "error",
     "traceback": [
      "\u001b[1;31m---------------------------------------------------------------------------\u001b[0m",
      "\u001b[1;31mModuleNotFoundError\u001b[0m                       Traceback (most recent call last)",
      "\u001b[1;32m<ipython-input-4-adb5c3829415>\u001b[0m in \u001b[0;36m<module>\u001b[1;34m\u001b[0m\n\u001b[1;32m----> 1\u001b[1;33m \u001b[1;32mfrom\u001b[0m \u001b[0mwordcloud\u001b[0m \u001b[1;32mimport\u001b[0m \u001b[0mWordCloud\u001b[0m\u001b[1;33m,\u001b[0m\u001b[0mSTOPWORDS\u001b[0m\u001b[1;33m\u001b[0m\u001b[1;33m\u001b[0m\u001b[0m\n\u001b[0m\u001b[0;32m      2\u001b[0m \u001b[1;32mimport\u001b[0m \u001b[0mmatplotlib\u001b[0m\u001b[1;33m.\u001b[0m\u001b[0mpyplot\u001b[0m \u001b[1;32mas\u001b[0m \u001b[0mplt\u001b[0m\u001b[1;33m\u001b[0m\u001b[1;33m\u001b[0m\u001b[0m\n\u001b[0;32m      3\u001b[0m \u001b[0mwordcloud\u001b[0m \u001b[1;33m=\u001b[0m \u001b[0mWordCloud\u001b[0m\u001b[1;33m(\u001b[0m\u001b[0mwidth\u001b[0m \u001b[1;33m=\u001b[0m \u001b[1;36m1000\u001b[0m\u001b[1;33m,\u001b[0m \u001b[0mheight\u001b[0m \u001b[1;33m=\u001b[0m \u001b[1;36m500\u001b[0m\u001b[1;33m,\u001b[0m \u001b[0mrandom_state\u001b[0m\u001b[1;33m=\u001b[0m\u001b[1;36m1\u001b[0m\u001b[1;33m,\u001b[0m \u001b[0mbackground_color\u001b[0m\u001b[1;33m=\u001b[0m\u001b[1;34m'black'\u001b[0m\u001b[1;33m,\u001b[0m \u001b[0mcolormap\u001b[0m\u001b[1;33m=\u001b[0m\u001b[1;34m'Set2'\u001b[0m\u001b[1;33m,\u001b[0m \u001b[0mcollocations\u001b[0m\u001b[1;33m=\u001b[0m\u001b[1;32mFalse\u001b[0m\u001b[1;33m,\u001b[0m \u001b[0mstopwords\u001b[0m \u001b[1;33m=\u001b[0m \u001b[0mSTOPWORDS\u001b[0m\u001b[1;33m)\u001b[0m\u001b[1;33m.\u001b[0m\u001b[0mgenerate\u001b[0m\u001b[1;33m(\u001b[0m\u001b[0mdf_business_text\u001b[0m\u001b[1;33m)\u001b[0m\u001b[1;33m\u001b[0m\u001b[1;33m\u001b[0m\u001b[0m\n\u001b[0;32m      4\u001b[0m \u001b[0mplt\u001b[0m\u001b[1;33m.\u001b[0m\u001b[0mfigure\u001b[0m\u001b[1;33m(\u001b[0m\u001b[0mfigsize\u001b[0m\u001b[1;33m=\u001b[0m\u001b[1;33m(\u001b[0m\u001b[1;36m20\u001b[0m\u001b[1;33m,\u001b[0m\u001b[1;36m15\u001b[0m\u001b[1;33m)\u001b[0m\u001b[1;33m)\u001b[0m\u001b[1;33m\u001b[0m\u001b[1;33m\u001b[0m\u001b[0m\n\u001b[0;32m      5\u001b[0m \u001b[0mplt\u001b[0m\u001b[1;33m.\u001b[0m\u001b[0mimshow\u001b[0m\u001b[1;33m(\u001b[0m\u001b[0mwordcloud\u001b[0m\u001b[1;33m)\u001b[0m\u001b[1;33m\u001b[0m\u001b[1;33m\u001b[0m\u001b[0m\n",
      "\u001b[1;31mModuleNotFoundError\u001b[0m: No module named 'wordcloud'"
     ]
    }
   ],
   "source": [
    "from wordcloud import WordCloud,STOPWORDS\n",
    "import matplotlib.pyplot as plt\n",
    "wordcloud = WordCloud(width = 1000, height = 500, random_state=1, background_color='black', colormap='Set2', collocations=False, stopwords = STOPWORDS).generate(df_business_text)\n",
    "plt.figure(figsize=(20,15))\n",
    "plt.imshow(wordcloud)\n",
    "plt.axis('off')"
   ]
  },
  {
   "cell_type": "code",
   "execution_count": null,
   "metadata": {
    "id": "aKmU7kpm78Zy"
   },
   "outputs": [],
   "source": [
    "wordcloud = WordCloud(width = 1000, height = 500, random_state=1, background_color='black', colormap='Set2', collocations=False, stopwords = STOPWORDS).generate(df_tech_text)\n",
    "plt.figure(figsize=(20,15))\n",
    "plt.imshow(wordcloud)\n",
    "plt.axis('off')"
   ]
  },
  {
   "cell_type": "code",
   "execution_count": null,
   "metadata": {
    "id": "E3b_O7K18G4A"
   },
   "outputs": [],
   "source": [
    "wordcloud = WordCloud(width = 1000, height = 500, random_state=1, background_color='black', colormap='Set2', collocations=False, stopwords = STOPWORDS).generate(df_sport_text)\n",
    "plt.figure(figsize=(20,15))\n",
    "plt.imshow(wordcloud)\n",
    "plt.axis('off')"
   ]
  },
  {
   "cell_type": "code",
   "execution_count": null,
   "metadata": {
    "id": "uc5QvKkn8KgT"
   },
   "outputs": [],
   "source": [
    "wordcloud = WordCloud(width = 1000, height = 500, random_state=1, background_color='black', colormap='Set2', collocations=False, stopwords = STOPWORDS).generate(df_entertainment_text)\n",
    "plt.figure(figsize=(20,15))\n",
    "plt.imshow(wordcloud)\n",
    "plt.axis('off')"
   ]
  },
  {
   "cell_type": "code",
   "execution_count": null,
   "metadata": {
    "id": "rriQWtFg8SV7"
   },
   "outputs": [],
   "source": []
  },
  {
   "cell_type": "code",
   "execution_count": null,
   "metadata": {
    "id": "fLn-iXhb8Vvb"
   },
   "outputs": [],
   "source": [
    "import nltk\n",
    "nltk.download('stopwords')\n",
    "from nltk import stem\n",
    "from nltk.corpus import stopwords\n",
    "stemmer = stem.SnowballStemmer('english')\n",
    "stopwords = set(stopwords.words('english'))"
   ]
  },
  {
   "cell_type": "code",
   "execution_count": null,
   "metadata": {
    "id": "35Le8Np3HBQ3"
   },
   "outputs": [],
   "source": [
    "df['document'][2]"
   ]
  },
  {
   "cell_type": "code",
   "execution_count": null,
   "metadata": {
    "id": "IYczzT3G8khk"
   },
   "outputs": [],
   "source": [
    "import re\n",
    "def clean_text(text):\n",
    "  text = re.sub(r'[^\\w\\s]', '', text)\n",
    "  text = text.lower()\n",
    "  text = [x for x in text.split(' ') if x not in stopwords]\n",
    "  text = ' '.join([stemmer.stem(word) for word in text])\n",
    "  return text"
   ]
  },
  {
   "cell_type": "code",
   "execution_count": null,
   "metadata": {
    "id": "JtMTSeOrHhDW"
   },
   "outputs": [],
   "source": [
    "df['document']=df['document'].apply(str)"
   ]
  },
  {
   "cell_type": "code",
   "execution_count": null,
   "metadata": {
    "id": "l0FD-Nhj83jz"
   },
   "outputs": [],
   "source": [
    "\n",
    "df['document'] = df['document'].apply(clean_text)"
   ]
  },
  {
   "cell_type": "code",
   "execution_count": null,
   "metadata": {
    "id": "Rje4bqbN89Z4"
   },
   "outputs": [],
   "source": [
    "import sklearn\n",
    "from sklearn.model_selection import train_test_split\n",
    "X_train,X_test,y_train,y_test = train_test_split(df['document'],df['category'],test_size = 0.2,random_state=1)"
   ]
  },
  {
   "cell_type": "code",
   "execution_count": null,
   "metadata": {
    "id": "VyWMUbOa9Czo"
   },
   "outputs": [],
   "source": [
    "from sklearn.feature_extraction.text import TfidfVectorizer"
   ]
  },
  {
   "cell_type": "code",
   "execution_count": null,
   "metadata": {
    "id": "91hfMTh39HUP"
   },
   "outputs": [],
   "source": [
    "\n"
   ]
  },
  {
   "cell_type": "code",
   "execution_count": null,
   "metadata": {
    "id": "vqmNYY7R9Kyx"
   },
   "outputs": [],
   "source": [
    "import tensorflow as tf\n",
    "from tensorflow.keras.preprocessing.text import Tokenizer\n",
    "from tensorflow.keras.preprocessing.sequence import pad_sequences"
   ]
  },
  {
   "cell_type": "code",
   "execution_count": null,
   "metadata": {
    "id": "khanOJz69Oup"
   },
   "outputs": [],
   "source": [
    "vocab_size = 1000\n",
    "max_len = 30\n",
    "dimension = 8"
   ]
  },
  {
   "cell_type": "code",
   "execution_count": null,
   "metadata": {
    "id": "fRCFLYRK9Rq4"
   },
   "outputs": [],
   "source": [
    "tokenizer = Tokenizer(num_words=1000,oov_token='<OOV>')"
   ]
  },
  {
   "cell_type": "code",
   "execution_count": null,
   "metadata": {
    "id": "j7kHmnnI9TjA"
   },
   "outputs": [],
   "source": [
    "tokenizer.fit_on_texts(X_train)"
   ]
  },
  {
   "cell_type": "code",
   "execution_count": null,
   "metadata": {
    "id": "OXjLRw8e9VNI"
   },
   "outputs": [],
   "source": [
    "#turn them into sequences\n",
    "sequence_words = tokenizer.texts_to_sequences(X_train)"
   ]
  },
  {
   "cell_type": "code",
   "execution_count": null,
   "metadata": {
    "id": "On2l_RYr9-Jn"
   },
   "outputs": [],
   "source": [
    "seq_padded = pad_sequences(sequence_words,maxlen = max_len,padding='post',truncating='post')"
   ]
  },
  {
   "cell_type": "code",
   "execution_count": null,
   "metadata": {
    "id": "1_zXaliL-BOp"
   },
   "outputs": [],
   "source": [
    "sequence_words_test = tokenizer.texts_to_sequences(X_test)\n",
    "seq_padded_test = pad_sequences(sequence_words_test,maxlen = max_len,padding='post',truncating='post')"
   ]
  },
  {
   "cell_type": "code",
   "execution_count": null,
   "metadata": {
    "id": "fkjCd7fG-GtY"
   },
   "outputs": [],
   "source": [
    "label_tok = Tokenizer()\n",
    "label_tok.fit_on_texts(y_train)\n",
    "sequence_label = np.array(label_tok.texts_to_sequences(y_train))\n",
    "sequence_label_test = np.array(label_tok.texts_to_sequences(y_test))"
   ]
  },
  {
   "cell_type": "code",
   "execution_count": null,
   "metadata": {
    "id": "xBzEoBTI-I0g"
   },
   "outputs": [],
   "source": [
    "#build LSTM\n",
    "from keras.utils import to_categorical\n",
    "sequence_label  = to_categorical(sequence_label)\n",
    "sequence_label_test  = to_categorical(sequence_label_test)"
   ]
  },
  {
   "cell_type": "code",
   "execution_count": null,
   "metadata": {
    "id": "1oX3NO51-MB4"
   },
   "outputs": [],
   "source": [
    "\n",
    "model = tf.keras.Sequential([\n",
    "              tf.keras.layers.Embedding(vocab_size,dimension),\n",
    "              #tf.keras.layers.Bidirectional(tf.keras.layers.LSTM(dimension)),\n",
    "              #tf.keras.layers.Dense(dimension,activation='relu'),\n",
    "              tf.keras.layers.LSTM(dimension),\n",
    "              tf.keras.layers.Dense(dimension,activation='relu'),\n",
    "              \n",
    "              tf.keras.layers.Dense(6,activation='softmax')\n",
    "])"
   ]
  },
  {
   "cell_type": "code",
   "execution_count": null,
   "metadata": {
    "id": "LtUJN3MX-yea"
   },
   "outputs": [],
   "source": [
    "from keras.models import Sequential\n",
    "from keras.layers import Dense\n",
    "from keras.layers import LSTM\n"
   ]
  },
  {
   "cell_type": "code",
   "execution_count": null,
   "metadata": {
    "id": "fTqYGfbY-4js"
   },
   "outputs": [],
   "source": [
    "model.summary()"
   ]
  },
  {
   "cell_type": "code",
   "execution_count": null,
   "metadata": {
    "id": "aUPJIp6T_apu"
   },
   "outputs": [],
   "source": [
    "\n",
    "model.compile(loss='categorical_crossentropy',optimizer='adam',metrics=['accuracy'])"
   ]
  },
  {
   "cell_type": "code",
   "execution_count": null,
   "metadata": {
    "id": "hTpjLR4O-6aZ"
   },
   "outputs": [],
   "source": [
    "from keras.callbacks import EarlyStopping\n",
    "es = EarlyStopping(monitor='val_loss', mode='min', verbose=1)\n",
    "his = model.fit(seq_padded,sequence_label,epochs = 20,validation_data=(seq_padded_test,sequence_label_test),verbose=2)"
   ]
  },
  {
   "cell_type": "code",
   "execution_count": null,
   "metadata": {
    "id": "quPaxiXR--QQ"
   },
   "outputs": [],
   "source": [
    "df.groupby('category').describe().T"
   ]
  }
 ],
 "metadata": {
  "colab": {
   "name": "nlp-code.ipynb",
   "provenance": []
  },
  "kernelspec": {
   "display_name": "Python 3",
   "language": "python",
   "name": "python3"
  },
  "language_info": {
   "codemirror_mode": {
    "name": "ipython",
    "version": 3
   },
   "file_extension": ".py",
   "mimetype": "text/x-python",
   "name": "python",
   "nbconvert_exporter": "python",
   "pygments_lexer": "ipython3",
   "version": "3.8.3"
  }
 },
 "nbformat": 4,
 "nbformat_minor": 1
}
